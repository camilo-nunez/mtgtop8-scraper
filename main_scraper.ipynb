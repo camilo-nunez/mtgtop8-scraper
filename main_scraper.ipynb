{
 "cells": [
  {
   "cell_type": "code",
   "execution_count": null,
   "metadata": {},
   "outputs": [],
   "source": [
    "from urllib.request import urlopen\n",
    "from bs4 import BeautifulSoup\n",
    "import re\n",
    "import requests\n",
    "import numpy as np\n",
    "from tqdm import tqdm\n",
    "import json\n",
    "import os\n",
    "import shutil\n",
    "import pandas as pd"
   ]
  },
  {
   "cell_type": "code",
   "execution_count": null,
   "metadata": {},
   "outputs": [],
   "source": [
    "formats = ['ST', 'MO', 'LE', 'VI', 'PI', 'EDH']"
   ]
  },
  {
   "cell_type": "markdown",
   "metadata": {},
   "source": [
    "# Tools for Scraping"
   ]
  },
  {
   "cell_type": "markdown",
   "metadata": {},
   "source": [
    "## fetchMetaId"
   ]
  },
  {
   "cell_type": "code",
   "execution_count": null,
   "metadata": {},
   "outputs": [],
   "source": [
    "def fetchMetaId(fmt):\n",
    "    html = urlopen('http://mtgtop8.com/format?f={0}'.format(fmt))\n",
    "    bs = BeautifulSoup(html, \"html.parser\")\n",
    "    \n",
    "    meta_options = bs.find('select', {\"name\":\"meta\"}).findAll('option')\n",
    "    meta_dict = {}\n",
    "    for o in meta_options:\n",
    "        pkg = re.findall(r\"format\\?f=(\\w{2,3})&meta=([0-9]{2,3})\", o.attrs['value'])\n",
    "        if len(pkg)!=0: meta_dict[pkg[0][1]] = o.get_text()\n",
    "        else: pass\n",
    "        \n",
    "    return meta_dict"
   ]
  },
  {
   "cell_type": "code",
   "execution_count": null,
   "metadata": {},
   "outputs": [],
   "source": [
    "fetchMetaId('ST')"
   ]
  },
  {
   "cell_type": "markdown",
   "metadata": {},
   "source": [
    "## fetchFormatEvents"
   ]
  },
  {
   "cell_type": "code",
   "execution_count": null,
   "metadata": {},
   "outputs": [],
   "source": [
    "def fetchFormatEvents(fmt, mtid):\n",
    "    events = []\n",
    "\n",
    "    page = 1\n",
    "    flag = True\n",
    "    while flag:\n",
    "        html = requests.post('http://mtgtop8.com/format?f={0}&meta={1}'.format(fmt, mtid), \\\n",
    "                             headers={'Content-Type': 'application/x-www-form-urlencoded'}, data = {'cp':page}).text\n",
    "        bs = BeautifulSoup(html, \"html.parser\")\n",
    "\n",
    "        table = bs.select('div div table tr td[width=\"40%\"] > table')[1]\n",
    "        div = table.select('tr[height=\"30\"]')\n",
    "\n",
    "        if len(div)!=0:\n",
    "            for o in div:\n",
    "                link = o.select('td a', href=True, text=True)[0]\n",
    "\n",
    "                event = {\n",
    "                    'title': link.get_text(),\n",
    "                    '_id': re.findall(r\"e\\=(\\d*)\", link['href'])[0],\n",
    "                    'stars': len(o.select('td[width=\"15%\"] img[src=\"/graph/star.png\"]')),\n",
    "                    'bigstars': len(o.select('td[width=\"15%\"] img[src=\"graph/bigstar.png\"]')),\n",
    "                    'date': o.select('td[align=\"right\"]')[0].get_text(),\n",
    "                    'format': fmt,\n",
    "                    'meta_id': mtid\n",
    "                }\n",
    "                events.append(event)\n",
    "            page+=1\n",
    "        else:\n",
    "            flag = False\n",
    "    \n",
    "    return events"
   ]
  },
  {
   "cell_type": "code",
   "execution_count": null,
   "metadata": {},
   "outputs": [],
   "source": [
    "fetchFormatEvents('ST','96')[:5]"
   ]
  },
  {
   "cell_type": "markdown",
   "metadata": {},
   "source": [
    "## fetchEventInfo"
   ]
  },
  {
   "cell_type": "code",
   "execution_count": null,
   "metadata": {},
   "outputs": [],
   "source": []
  },
  {
   "cell_type": "code",
   "execution_count": null,
   "metadata": {},
   "outputs": [],
   "source": [
    "def fetchEventInfo(evtid):\n",
    "    html = urlopen('http://mtgtop8.com/event?e={0}'.format(evtid))\n",
    "    bs = BeautifulSoup(html, \"html.parser\")\n",
    "    \n",
    "    data = bs.select('table div table td[align=center] div')[1].previous.strip()\n",
    "    players = re.findall(r\"^(\\d*) players\", data)[0]\n",
    "    date = re.findall(r\"(\\d\\d\\/\\d\\d\\/\\d\\d)$\", data)[0]\n",
    "    title = bs.select('.w_title td')[0].get_text()\n",
    "    top_8_decks = []\n",
    "\n",
    "    for o in bs.select('table td[width=\"25%\"] > div > div:not([align=\"center\"])'):\n",
    "        link = o.select('div div a')[0]['href']\n",
    "        deck = {\n",
    "            '_id': re.findall(r\"\\&d\\=(\\d*)\", link)[0],\n",
    "            'result':o.select('div div[align=center]')[0].get_text(),\n",
    "            'title': o.select('div div a')[0].get_text(),\n",
    "            'player': o.select('div div a')[0].get_text()\n",
    "        }\n",
    "        top_8_decks.append(deck)\n",
    "    \n",
    "    return top_8_decks"
   ]
  },
  {
   "cell_type": "code",
   "execution_count": null,
   "metadata": {},
   "outputs": [],
   "source": [
    "fetchEventInfo('22539')"
   ]
  },
  {
   "cell_type": "markdown",
   "metadata": {},
   "source": [
    "## fetchDeck"
   ]
  },
  {
   "cell_type": "code",
   "execution_count": null,
   "metadata": {},
   "outputs": [],
   "source": [
    "def fetchDeck(evtid, plyid):\n",
    "    html = urlopen('http://mtgtop8.com/event?e={0}&d={1}'.format(evtid, plyid))\n",
    "    bs = BeautifulSoup(html, \"html.parser\")\n",
    "    \n",
    "    tables = bs.select('table table table')\n",
    "\n",
    "    main_deck = []\n",
    "    for t in tables[0:-1]:\n",
    "        for o in t.select('tr td div span'):\n",
    "            pkg = o.parent.get_text().split()\n",
    "            count = pkg[0]\n",
    "            card = ' '.join(pkg[1:])\n",
    "            main_deck.append((card,count))\n",
    "\n",
    "    sideboard = []\n",
    "    for o in tables[-1].select('tr td div span'):\n",
    "        pkg = o.parent.get_text().split()\n",
    "        count = pkg[0]\n",
    "        card = ' '.join(pkg[1:])\n",
    "        sideboard.append((card,count))\n",
    "\n",
    "    deck = {\n",
    "        'player': bs.select('table .chosen_tr [align=right] .topic')[0].get_text(),\n",
    "        'result': bs.select('table .chosen_tr [align=center]')[0].get_text(),\n",
    "        'main_deck': main_deck,\n",
    "        'sideboard': sideboard\n",
    "    }\n",
    "    \n",
    "    return deck"
   ]
  },
  {
   "cell_type": "code",
   "execution_count": null,
   "metadata": {},
   "outputs": [],
   "source": [
    "fetchDeck('25681','390867')\n",
    "#json.dumps(fetchDeck('25681','390867'))"
   ]
  },
  {
   "cell_type": "markdown",
   "metadata": {},
   "source": [
    "# Main Scraping"
   ]
  },
  {
   "cell_type": "code",
   "execution_count": null,
   "metadata": {},
   "outputs": [],
   "source": [
    "import pandas as pd"
   ]
  },
  {
   "cell_type": "code",
   "execution_count": null,
   "metadata": {},
   "outputs": [],
   "source": [
    "fmts = []\n",
    "_ids = []\n",
    "names = []\n",
    "\n",
    "for fmt in formats:\n",
    "    dict_aux = fetchMetaId(fmt)\n",
    "    fmts+=[fmt]*len(dict_aux)\n",
    "    _ids+=list(dict_aux.keys())\n",
    "    names+=list(dict_aux.values())\n",
    "\n",
    "all_meta_info = {'meta_id': _ids,'meta_name': names,'meta_format': fmts}"
   ]
  },
  {
   "cell_type": "code",
   "execution_count": null,
   "metadata": {},
   "outputs": [],
   "source": [
    "df_meta = pd.DataFrame.from_dict(all_meta_info)"
   ]
  },
  {
   "cell_type": "code",
   "execution_count": null,
   "metadata": {},
   "outputs": [],
   "source": [
    "df_meta.head()"
   ]
  },
  {
   "cell_type": "code",
   "execution_count": null,
   "metadata": {},
   "outputs": [],
   "source": [
    "df_meta.to_csv('df_meta.csv')"
   ]
  },
  {
   "cell_type": "code",
   "execution_count": null,
   "metadata": {},
   "outputs": [],
   "source": [
    "all_events = []"
   ]
  },
  {
   "cell_type": "code",
   "execution_count": null,
   "metadata": {},
   "outputs": [],
   "source": [
    "meta_ids = all_meta_info['meta_id']\n",
    "meta_formats = all_meta_info['meta_format']\n",
    "\n",
    "for i in tqdm(range(len(meta_formats))):\n",
    "    try:\n",
    "        all_events+=fetchFormatEvents(meta_formats[i],meta_ids[i])\n",
    "    except:\n",
    "        print('error en: ', meta_formats[i], meta_ids[i])"
   ]
  },
  {
   "cell_type": "code",
   "execution_count": null,
   "metadata": {},
   "outputs": [],
   "source": [
    "np.save('all_events.npy', np.array(all_events))"
   ]
  },
  {
   "cell_type": "code",
   "execution_count": null,
   "metadata": {},
   "outputs": [],
   "source": [
    "dict_events = {'event_title':[], 'event__id':[], 'event_stars':[], 'event_bigstars':[], 'event_date':[], 'event_format':[], 'event_meta_id':[]}\n",
    "for e in all_events:\n",
    "    for k,v in e.items():\n",
    "        dict_events['event_'+k].append(v)"
   ]
  },
  {
   "cell_type": "code",
   "execution_count": null,
   "metadata": {},
   "outputs": [],
   "source": [
    "df_events = pd.DataFrame.from_dict(dict_events)"
   ]
  },
  {
   "cell_type": "code",
   "execution_count": null,
   "metadata": {},
   "outputs": [],
   "source": [
    "df_events.head()"
   ]
  },
  {
   "cell_type": "code",
   "execution_count": null,
   "metadata": {},
   "outputs": [],
   "source": [
    "df_events.to_csv('df_events.csv')"
   ]
  },
  {
   "cell_type": "code",
   "execution_count": null,
   "metadata": {},
   "outputs": [],
   "source": [
    "main_dir = './events'"
   ]
  },
  {
   "cell_type": "code",
   "execution_count": null,
   "metadata": {},
   "outputs": [],
   "source": [
    "errors_id = []\n",
    "for ind in tqdm(df_events.index):\n",
    "    id_event = df_events['event__id'][ind]\n",
    "    try:\n",
    "        path_event = os.path.join(main_dir, id_event)\n",
    "        if not os.path.exists(path_event):\n",
    "            os.mkdir(path_event)\n",
    "\n",
    "            path_players_info = os.path.join(path_event, 'players_info.csv')\n",
    "            event_info_players = {'player__id':[], 'player_result':[], 'player_title':[], 'player_player':[]}\n",
    "            for ply in fetchEventInfo(id_event):\n",
    "                for k,v in ply.items():\n",
    "                    event_info_players['player_'+k].append(v)\n",
    "            df_players = pd.DataFrame.from_dict(event_info_players)\n",
    "            df_players.to_csv(path_players_info)\n",
    "\n",
    "            path_players_decks = os.path.join(path_event, 'players_decks')\n",
    "            os.mkdir(path_players_decks)\n",
    "            for indx in df_players.index:\n",
    "                id_player = df_players['player__id'][indx]\n",
    "                path_player_deck = os.path.join(path_players_decks, 'player_{0}_deck.json'.format(id_player))\n",
    "                with open(path_player_deck, 'w') as f:\n",
    "                    json.dump(fetchDeck(id_event, id_player), f)\n",
    "        else:\n",
    "            pass\n",
    "            #print('folder  '+ path_event+' exist')\n",
    "    except:\n",
    "        errors_id.append(id_event)\n",
    "        print('error en: ', id_event)"
   ]
  },
  {
   "cell_type": "code",
   "execution_count": null,
   "metadata": {},
   "outputs": [],
   "source": [
    "np.save('vector_errores.npy',np.array(errors_id))"
   ]
  },
  {
   "cell_type": "code",
   "execution_count": null,
   "metadata": {},
   "outputs": [],
   "source": [
    "empy_dirs = []\n",
    "for fol in os.listdir(main_dir):\n",
    "    if not os.listdir(os.path.join(main_dir, fol)):\n",
    "        empy_dirs.append(fol)\n",
    "len(empy_dirs)"
   ]
  },
  {
   "cell_type": "code",
   "execution_count": null,
   "metadata": {},
   "outputs": [],
   "source": [
    "np.save('empy_dirs.npy',np.array(empy_dirs))"
   ]
  },
  {
   "cell_type": "code",
   "execution_count": null,
   "metadata": {},
   "outputs": [],
   "source": [
    "for fol in empy_dirs:\n",
    "    shutil.rmtree(os.path.join(main_dir, fol))"
   ]
  },
  {
   "cell_type": "code",
   "execution_count": null,
   "metadata": {},
   "outputs": [],
   "source": [
    "indices_errores = []\n",
    "actual_events = list(map(int, os.listdir(main_dir)))\n",
    "df_all_events = pd.read_csv(\"df_events.csv\").drop_duplicates(subset =\"event__id\")"
   ]
  },
  {
   "cell_type": "code",
   "execution_count": null,
   "metadata": {},
   "outputs": [],
   "source": [
    "df_all_events.head()"
   ]
  },
  {
   "cell_type": "code",
   "execution_count": null,
   "metadata": {},
   "outputs": [],
   "source": [
    "for ind in tqdm(df_all_events.index):\n",
    "    id_event = int(df_all_events['event__id'][ind])\n",
    "    if id_event not in actual_events:\n",
    "        indices_errores.append(ind)"
   ]
  },
  {
   "cell_type": "code",
   "execution_count": null,
   "metadata": {},
   "outputs": [],
   "source": [
    "df_all_events = df_all_events.drop(indices_errores)"
   ]
  },
  {
   "cell_type": "code",
   "execution_count": null,
   "metadata": {},
   "outputs": [],
   "source": [
    "df_all_events = df_all_events.drop(columns='Unnamed: 0')"
   ]
  },
  {
   "cell_type": "code",
   "execution_count": null,
   "metadata": {},
   "outputs": [],
   "source": [
    "df_all_events.to_csv('df_events_v2.csv', index=False)"
   ]
  }
 ],
 "metadata": {
  "kernelspec": {
   "display_name": "Python 3",
   "language": "python",
   "name": "python3"
  },
  "language_info": {
   "codemirror_mode": {
    "name": "ipython",
    "version": 3
   },
   "file_extension": ".py",
   "mimetype": "text/x-python",
   "name": "python",
   "nbconvert_exporter": "python",
   "pygments_lexer": "ipython3",
   "version": "3.7.6"
  }
 },
 "nbformat": 4,
 "nbformat_minor": 4
}
